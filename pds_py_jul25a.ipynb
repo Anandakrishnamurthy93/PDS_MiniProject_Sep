{
 "cells": [
  {
   "cell_type": "markdown",
   "id": "e3f4a52c-de57-4e1e-b373-8ced53c73e0a",
   "metadata": {},
   "source": [
    "# PDS  Python"
   ]
  },
  {
   "cell_type": "markdown",
   "id": "2caed57d-3c7c-4325-914e-b1019e3d0b9d",
   "metadata": {},
   "source": [
    "# 12/July/2025"
   ]
  },
  {
   "cell_type": "markdown",
   "id": "6882ff47-5eee-4142-8de9-bd9413ee2021",
   "metadata": {},
   "source": [
    "# Jupyter notebook cells"
   ]
  },
  {
   "cell_type": "markdown",
   "id": "bf77f8c6-0531-4df2-8a87-7de252f9ff55",
   "metadata": {},
   "source": [
    "#### 1. Write a python program to print fib series recursively."
   ]
  },
  {
   "cell_type": "code",
   "execution_count": null,
   "id": "9b5a6816-c07f-4f45-a0fb-b9fea0840886",
   "metadata": {},
   "outputs": [],
   "source": [
    "print('hello world')"
   ]
  },
  {
   "cell_type": "raw",
   "id": "04368c0e-3d54-4a1f-887d-93a5e29c672b",
   "metadata": {},
   "source": [
    "this is help of \n",
    "solving the problem"
   ]
  },
  {
   "cell_type": "code",
   "execution_count": null,
   "id": "b1b1da0b-aeb6-4f12-b6e1-ff01b1650109",
   "metadata": {},
   "outputs": [],
   "source": [
    "ord('A')"
   ]
  },
  {
   "cell_type": "code",
   "execution_count": null,
   "id": "eaf2a04c-d8d8-4af2-822a-c834eb7874b5",
   "metadata": {},
   "outputs": [],
   "source": [
    "print('\\u0041')"
   ]
  },
  {
   "cell_type": "code",
   "execution_count": null,
   "id": "de445863-3c03-4e45-9073-4da37a6e3174",
   "metadata": {},
   "outputs": [],
   "source": [
    "hex(65)"
   ]
  },
  {
   "cell_type": "code",
   "execution_count": null,
   "id": "3f8c1f2f-dcd9-454f-952c-9515511e1faf",
   "metadata": {},
   "outputs": [],
   "source": [
    "ord('$')"
   ]
  },
  {
   "cell_type": "code",
   "execution_count": null,
   "id": "9b4acce3-f937-4cd4-bee0-dda7e1b7c851",
   "metadata": {},
   "outputs": [],
   "source": [
    "hex(36)"
   ]
  },
  {
   "cell_type": "code",
   "execution_count": null,
   "id": "548c5911-175c-4024-8ca2-b4a3d2c8b942",
   "metadata": {},
   "outputs": [],
   "source": [
    "print(\"\\u0024\")"
   ]
  },
  {
   "cell_type": "code",
   "execution_count": null,
   "id": "deb4b517-327c-46da-be7a-b2da9d2cc81f",
   "metadata": {},
   "outputs": [],
   "source": [
    "print(\"\\u20b9\")"
   ]
  },
  {
   "cell_type": "code",
   "execution_count": null,
   "id": "0c641242-a051-4b7b-a89e-f65e2aae3063",
   "metadata": {},
   "outputs": [],
   "source": [
    "ord('A')"
   ]
  },
  {
   "cell_type": "code",
   "execution_count": null,
   "id": "3823f5ee-ebc6-477c-9e22-911794aded4d",
   "metadata": {},
   "outputs": [],
   "source": [
    "chr(65)  ##  accepts decimal value"
   ]
  },
  {
   "cell_type": "code",
   "execution_count": null,
   "id": "2b44c7f8-8fc4-4664-b2e9-2cc5f3359432",
   "metadata": {},
   "outputs": [],
   "source": [
    "int(0x20b9)"
   ]
  },
  {
   "cell_type": "code",
   "execution_count": null,
   "id": "6f0aad93-2502-4efa-9066-52f88a824dfa",
   "metadata": {},
   "outputs": [],
   "source": [
    "chr(8377)"
   ]
  },
  {
   "cell_type": "code",
   "execution_count": null,
   "id": "49db0120-b281-41ea-ad5c-bc43211d8aa6",
   "metadata": {},
   "outputs": [],
   "source": [
    "usd = \"dollar $\"   rupee = \"Rupee \\u20b9\""
   ]
  },
  {
   "cell_type": "code",
   "execution_count": null,
   "id": "c3be667c-bc7f-42dc-b823-7118b730651a",
   "metadata": {},
   "outputs": [],
   "source": [
    "usd = \"dollar $\";   rupee = \"Rupee \\u20b9\""
   ]
  },
  {
   "cell_type": "code",
   "execution_count": null,
   "id": "20ede68a-8f57-4e84-9a2e-eb39164df9e0",
   "metadata": {},
   "outputs": [],
   "source": [
    "print(usd, rupee)"
   ]
  },
  {
   "cell_type": "markdown",
   "id": "1e8eca0f-bb1a-4ed0-8798-52647a68837c",
   "metadata": {},
   "source": [
    "### Revise Number Systems.  Decimal, Hex, Octal, Binary"
   ]
  },
  {
   "cell_type": "code",
   "execution_count": null,
   "id": "d10b95b0-506d-4374-839f-de4ece16be89",
   "metadata": {},
   "outputs": [],
   "source": [
    "word = 'python'\n",
    "print(word)"
   ]
  },
  {
   "cell_type": "code",
   "execution_count": null,
   "id": "0903de5c-6f0d-41e1-996b-87fe12c045ca",
   "metadata": {},
   "outputs": [],
   "source": [
    "word1 = \"data\"\n",
    "print(word1)"
   ]
  },
  {
   "cell_type": "code",
   "execution_count": null,
   "id": "bbad9a54-43d4-4b87-b5ad-758595d30c3f",
   "metadata": {},
   "outputs": [],
   "source": [
    "word2 = 'science\""
   ]
  },
  {
   "cell_type": "code",
   "execution_count": null,
   "id": "b3f2847e-8101-4adb-b2b2-0513e7dbb431",
   "metadata": {},
   "outputs": [],
   "source": [
    "word2 = 'data\"science'\n",
    "print(word2)"
   ]
  },
  {
   "cell_type": "code",
   "execution_count": null,
   "id": "ce0ad9eb-b8d3-4fe2-8043-ea5335c38142",
   "metadata": {},
   "outputs": [],
   "source": [
    "nse = \"nse is \n",
    "located in \n",
    "mumbai\"\n",
    "print(nse)"
   ]
  },
  {
   "cell_type": "code",
   "execution_count": null,
   "id": "98c6b764-b4df-46e6-8f54-174cc4e516e7",
   "metadata": {},
   "outputs": [],
   "source": [
    "p1 = ''' nse \n",
    "is in\n",
    "mumbai'''\n",
    "print(p1)"
   ]
  },
  {
   "cell_type": "code",
   "execution_count": null,
   "id": "9bc790cd-cffc-4a76-aaea-5bc2c7ef6ab3",
   "metadata": {},
   "outputs": [],
   "source": [
    "p2 = \"\"\" bse \n",
    "is also in\n",
    "mumbai \"\"\"\n",
    "print(p2)"
   ]
  },
  {
   "cell_type": "code",
   "execution_count": null,
   "id": "69e29240-4726-4991-9c52-fe2c9d5e5712",
   "metadata": {},
   "outputs": [],
   "source": [
    "temp =20\n",
    "Temp = 21\n",
    "print(temp, Temp)  #  Case Sensitive"
   ]
  },
  {
   "cell_type": "code",
   "execution_count": null,
   "id": "59463785-0184-4760-98d8-8030cfc72f6d",
   "metadata": {},
   "outputs": [],
   "source": [
    "560001Blr = 'GPO' #  var names should not start with numbers"
   ]
  },
  {
   "cell_type": "code",
   "execution_count": null,
   "id": "160b3611-82db-46bf-9037-8dcd5652d2d7",
   "metadata": {},
   "outputs": [],
   "source": [
    "stock$bse = 'NSE'  #  No special chars inside the var_name"
   ]
  },
  {
   "cell_type": "code",
   "execution_count": null,
   "id": "6c8e9b98-fa03-42ab-ae4c-5e943b5c6ae0",
   "metadata": {},
   "outputs": [],
   "source": [
    "if = 20"
   ]
  },
  {
   "cell_type": "code",
   "execution_count": null,
   "id": "0187b285-ce9a-40be-abb4-f1f0230797d6",
   "metadata": {},
   "outputs": [],
   "source": [
    "import keyword\n",
    "print(keyword.kwlist)  #  python language keywords"
   ]
  },
  {
   "cell_type": "code",
   "execution_count": null,
   "id": "394dd931-2d6c-4184-8fd4-42d70eb0fb90",
   "metadata": {},
   "outputs": [],
   "source": [
    "not = 20"
   ]
  },
  {
   "cell_type": "code",
   "execution_count": null,
   "id": "a22afe78-5571-4573-b746-7578f7020819",
   "metadata": {},
   "outputs": [],
   "source": [
    "NOT = 20"
   ]
  },
  {
   "cell_type": "code",
   "execution_count": null,
   "id": "275574bf-ae45-4814-a4f8-e68c9fd3ae84",
   "metadata": {},
   "outputs": [],
   "source": [
    "print(kwlist)"
   ]
  },
  {
   "cell_type": "markdown",
   "id": "94d0f409-55db-4cf1-b9de-f498dbfffd61",
   "metadata": {},
   "source": [
    "# Indentation"
   ]
  },
  {
   "cell_type": "code",
   "execution_count": null,
   "id": "6cdf948d-c00a-4c5b-9651-0fc623c3d035",
   "metadata": {},
   "outputs": [],
   "source": [
    "sensor = 1\n",
    "\n",
    "if sensor == 0:\n",
    "    print('sensor OFF')\n",
    "    print('Motor Off')\n",
    "else:\n",
    "        print(\"Sensor ON\")\n",
    "        print('Motor ON')\n",
    "print('Done')"
   ]
  },
  {
   "cell_type": "code",
   "execution_count": null,
   "id": "7eb1835a-1437-400e-8a2b-114ca4e301ab",
   "metadata": {},
   "outputs": [],
   "source": [
    "# Indentation: Statements within a block must have same indentation."
   ]
  },
  {
   "cell_type": "code",
   "execution_count": null,
   "id": "31e1c105-9e5b-4d2a-9557-d62a6ed25ec6",
   "metadata": {},
   "outputs": [],
   "source": [
    "sensor = 1\n",
    "if sensor == 0:\n",
    "    print('sensor OFF')\n",
    "    print('Motor Off')\n",
    "else:\n",
    "        print(\"Sensor ON\")\n",
    "            print('Motor ON') # error\n",
    "print('Done')"
   ]
  },
  {
   "cell_type": "code",
   "execution_count": null,
   "id": "f5b5ea25-982a-44f9-bbeb-2ff685ad9252",
   "metadata": {},
   "outputs": [],
   "source": [
    "print(sensor)"
   ]
  },
  {
   "cell_type": "code",
   "execution_count": null,
   "id": "4acaf3cc-bc77-4c7f-873f-82b73d502eb7",
   "metadata": {},
   "outputs": [],
   "source": [
    "print(sensor1)"
   ]
  },
  {
   "cell_type": "code",
   "execution_count": null,
   "id": "076b5668-972d-4bf4-bc61-338a2dbea778",
   "metadata": {},
   "outputs": [],
   "source": [
    "print(Sensor)"
   ]
  },
  {
   "cell_type": "code",
   "execution_count": null,
   "id": "7cb42866-43e8-4f6f-a049-6147b861eefb",
   "metadata": {},
   "outputs": [],
   "source": [
    "v1 = 20 #\n",
    "print(v1)\n",
    "print(type(v1))"
   ]
  },
  {
   "cell_type": "code",
   "execution_count": null,
   "id": "e9b1d30c-8bd3-4fe8-886a-927072961d0e",
   "metadata": {},
   "outputs": [],
   "source": [
    "v1 = 'hello'\n",
    "print(v1)\n",
    "print(type(v1))"
   ]
  },
  {
   "cell_type": "code",
   "execution_count": null,
   "id": "e1d3a658-4ff1-4e07-9508-74e668adca57",
   "metadata": {},
   "outputs": [],
   "source": [
    "# Dynamically typed language"
   ]
  },
  {
   "cell_type": "code",
   "execution_count": null,
   "id": "cc3aecc1-8151-4d4c-81d8-e6d3e8c308e1",
   "metadata": {},
   "outputs": [],
   "source": [
    "print(id(v1)) # returns virtual address of the object"
   ]
  },
  {
   "cell_type": "code",
   "execution_count": null,
   "id": "adcfc073-bd51-4966-a7b6-c803b426acee",
   "metadata": {},
   "outputs": [],
   "source": [
    "v3 = 23.45\n",
    "print(type(v3))\n",
    "print(v3)"
   ]
  },
  {
   "cell_type": "code",
   "execution_count": null,
   "id": "5f0ad8f5-98cb-4409-999e-d1d6d8df8fee",
   "metadata": {},
   "outputs": [],
   "source": [
    "a=b=c = 2345 #  multiple variables with same value\n",
    "print(a,b,c)"
   ]
  },
  {
   "cell_type": "code",
   "execution_count": null,
   "id": "1996a9ab-1854-425b-a832-c2b4e35739ad",
   "metadata": {},
   "outputs": [],
   "source": [
    "a,b,c = 20,'Hello', [23,45,'pds']  # Positional Mapping\n",
    "print(a)\n",
    "print(b)\n",
    "print(c)"
   ]
  },
  {
   "cell_type": "code",
   "execution_count": null,
   "id": "985e53af-3a53-4d25-a092-c7bb7e87d0be",
   "metadata": {},
   "outputs": [],
   "source": [
    "a=2345\n",
    "b=2345\n",
    "c=2345\n",
    "print(a,b,c)\n",
    "print(id(a), id(b), id(c))"
   ]
  },
  {
   "cell_type": "code",
   "execution_count": null,
   "id": "bf1c6fb9-f944-4af2-b228-f6bfb5c4de2c",
   "metadata": {},
   "outputs": [],
   "source": [
    "a=b=c=2345\n",
    "print(a,b,c)\n",
    "print(id(a), id(b), id(c))"
   ]
  },
  {
   "cell_type": "code",
   "execution_count": null,
   "id": "22fd07ea-bf8c-4829-a2ef-092e9d70bcfb",
   "metadata": {},
   "outputs": [],
   "source": [
    "a=257\n",
    "b=257\n",
    "c=257\n",
    "print(a,b,c)\n",
    "print(id(a), id(b), id(c))"
   ]
  },
  {
   "cell_type": "code",
   "execution_count": null,
   "id": "1093e730-c413-4955-9a87-3a855e069a5a",
   "metadata": {},
   "outputs": [],
   "source": [
    "# values from -5 till 256 are predefined. python internal optimization."
   ]
  },
  {
   "cell_type": "code",
   "execution_count": null,
   "id": "04e6d311-a8bd-4b07-8d4b-d03222e65b91",
   "metadata": {},
   "outputs": [],
   "source": [
    "a = 'hello'\n",
    "b = 'hello'\n",
    "print(a,b)\n",
    "print(id(a), id(b))"
   ]
  },
  {
   "cell_type": "code",
   "execution_count": null,
   "id": "491ad3c1-b8d4-4fcb-85a4-39d37bae7e26",
   "metadata": {},
   "outputs": [],
   "source": [
    "a = 'hel lo'\n",
    "b = 'hel lo'\n",
    "print(a,b)\n",
    "print(id(a), id(b))"
   ]
  },
  {
   "cell_type": "markdown",
   "id": "58f620e2-2b29-42c8-9c23-714e9ec106a0",
   "metadata": {},
   "source": [
    "# Keyboard Interface"
   ]
  },
  {
   "cell_type": "code",
   "execution_count": null,
   "id": "c3355f0a-1ca0-4aa9-8366-956d3a51ca54",
   "metadata": {},
   "outputs": [],
   "source": [
    "sub = input('Enter Name')\n",
    "print(type(sub))\n",
    "print(len(sub))\n",
    "print(sub)"
   ]
  },
  {
   "cell_type": "code",
   "execution_count": null,
   "id": "87630bb4-e56f-492b-bab5-eb79f45b6c1b",
   "metadata": {},
   "outputs": [],
   "source": [
    "marks = input(\"Enter Marks: \")\n",
    "print(type(marks))\n",
    "print(len(marks))\n",
    "newmarks = marks + 10\n",
    "print(newmarks)"
   ]
  },
  {
   "cell_type": "code",
   "execution_count": null,
   "id": "0f623ae4-45f2-4335-b796-c4c69e4c077d",
   "metadata": {},
   "outputs": [],
   "source": [
    "marks = input(\"Enter Marks: \")\n",
    "print(type(marks))\n",
    "print(len(marks))\n",
    "\n",
    "marks1 = int(marks)\n",
    "print(type(marks1))\n",
    "newmarks = marks1 + 10\n",
    "print(newmarks)"
   ]
  },
  {
   "cell_type": "code",
   "execution_count": null,
   "id": "32c5d5a5-9ef2-496b-989b-022b6e622114",
   "metadata": {},
   "outputs": [],
   "source": [
    "int(\"98\")"
   ]
  },
  {
   "cell_type": "code",
   "execution_count": null,
   "id": "5f10d88c-e974-4e4e-b56f-9c8682cb824c",
   "metadata": {},
   "outputs": [],
   "source": [
    "int('hello')"
   ]
  },
  {
   "cell_type": "code",
   "execution_count": null,
   "id": "f137b3f1-ebd5-42a0-a347-e8646e4d9006",
   "metadata": {},
   "outputs": [],
   "source": [
    "int(98.76)"
   ]
  },
  {
   "cell_type": "code",
   "execution_count": null,
   "id": "63c85395-a296-4fe0-86d4-776a7da1112e",
   "metadata": {},
   "outputs": [],
   "source": [
    "float(98)"
   ]
  },
  {
   "cell_type": "code",
   "execution_count": null,
   "id": "cbf6d434-ecd4-44da-a85f-5f3c12110ff1",
   "metadata": {},
   "outputs": [],
   "source": [
    "float(\"98.76\") + 1"
   ]
  },
  {
   "cell_type": "code",
   "execution_count": null,
   "id": "79cb5079-ea12-4d77-958a-be62c4a293cd",
   "metadata": {},
   "outputs": [],
   "source": [
    "len(str(98))"
   ]
  },
  {
   "cell_type": "code",
   "execution_count": null,
   "id": "7eec8f3f-77dd-47e7-8f74-0c44b9208471",
   "metadata": {},
   "outputs": [],
   "source": [
    "len(str(98.76))"
   ]
  },
  {
   "cell_type": "code",
   "execution_count": null,
   "id": "5c6087bd-9d83-4ec3-bfe4-dd715a1ddcfb",
   "metadata": {},
   "outputs": [],
   "source": [
    "a = 20\n",
    "'''\n",
    "nse is \n",
    "in mumbai\n",
    "'''\n",
    "b = 30\n",
    "\n",
    "print(a,b)"
   ]
  },
  {
   "cell_type": "code",
   "execution_count": null,
   "id": "a48d5a43-ca6a-4bed-bde4-d156094e8ba1",
   "metadata": {},
   "outputs": [],
   "source": [
    "a = 20\n",
    "b = 30\n",
    "a\n",
    "b"
   ]
  },
  {
   "cell_type": "code",
   "execution_count": null,
   "id": "95c601f2-b538-4a37-ab44-eedae6a26d4f",
   "metadata": {},
   "outputs": [],
   "source": [
    "a = 20\n",
    "b = 30\n",
    "print(a)"
   ]
  },
  {
   "cell_type": "markdown",
   "id": "79468743-3386-4467-b26a-72be920b6a17",
   "metadata": {},
   "source": [
    "# Arithmetic Ops"
   ]
  },
  {
   "cell_type": "code",
   "execution_count": null,
   "id": "9298e58f-9df0-40ab-b29a-c4bc56a4a213",
   "metadata": {},
   "outputs": [],
   "source": [
    "10+20"
   ]
  },
  {
   "cell_type": "code",
   "execution_count": null,
   "id": "e7248575-4abb-48d5-82c0-520447d01098",
   "metadata": {},
   "outputs": [],
   "source": [
    "10-20"
   ]
  },
  {
   "cell_type": "code",
   "execution_count": null,
   "id": "abb9ac9e-4676-4eb9-8876-5c81c90179ac",
   "metadata": {},
   "outputs": [],
   "source": [
    "10*20"
   ]
  },
  {
   "cell_type": "code",
   "execution_count": null,
   "id": "ef65955f-7a3a-4ef3-a236-28b16de6f444",
   "metadata": {},
   "outputs": [],
   "source": [
    "20/3  # float or real division"
   ]
  },
  {
   "cell_type": "code",
   "execution_count": null,
   "id": "71e6d20b-bd8e-413b-8912-db7639cd489b",
   "metadata": {},
   "outputs": [],
   "source": [
    "20//3  # quotient"
   ]
  },
  {
   "cell_type": "code",
   "execution_count": null,
   "id": "d5d1ca8d-31ab-435e-8cdd-bbe7edfb68b9",
   "metadata": {},
   "outputs": [],
   "source": [
    "20%3 # remainder"
   ]
  },
  {
   "cell_type": "code",
   "execution_count": null,
   "id": "0aeb97a6-9cba-4c49-94e9-e6f7867358cb",
   "metadata": {},
   "outputs": [],
   "source": [
    "20**3  #  20 raised to the power of 3"
   ]
  },
  {
   "cell_type": "code",
   "execution_count": null,
   "id": "2145247c-440c-47d0-beac-4348643a56ab",
   "metadata": {},
   "outputs": [],
   "source": [
    "pow(20,3)"
   ]
  },
  {
   "cell_type": "code",
   "execution_count": null,
   "id": "5d66017f-107e-40c3-a423-177ffb5da6b0",
   "metadata": {},
   "outputs": [],
   "source": [
    "3 == 5"
   ]
  },
  {
   "cell_type": "code",
   "execution_count": null,
   "id": "723b0dfb-0784-44d5-bb2b-229d243578d4",
   "metadata": {},
   "outputs": [],
   "source": [
    "3 == 3"
   ]
  },
  {
   "cell_type": "code",
   "execution_count": null,
   "id": "06338df0-d1d7-445c-b14c-56bf231bba72",
   "metadata": {},
   "outputs": [],
   "source": [
    "3 == (6/2)"
   ]
  },
  {
   "cell_type": "code",
   "execution_count": null,
   "id": "1d9feda9-e39e-44f1-9860-a4aec804e9fa",
   "metadata": {},
   "outputs": [],
   "source": [
    "print(type(True))"
   ]
  },
  {
   "cell_type": "code",
   "execution_count": null,
   "id": "b5c55dc3-23a1-4900-b2a1-e5739f442218",
   "metadata": {},
   "outputs": [],
   "source": [
    "#  Review Truth Tables"
   ]
  },
  {
   "cell_type": "code",
   "execution_count": null,
   "id": "36c04e80-577e-440e-bd47-90afde33b834",
   "metadata": {},
   "outputs": [],
   "source": [
    "bool(100)"
   ]
  },
  {
   "cell_type": "code",
   "execution_count": null,
   "id": "bbae5fe4-eb7e-42c2-89d1-75c700bf9fd6",
   "metadata": {},
   "outputs": [],
   "source": [
    "bool(-100)"
   ]
  },
  {
   "cell_type": "code",
   "execution_count": null,
   "id": "37c1f691-d9d7-4972-b19b-891fc4c931bb",
   "metadata": {},
   "outputs": [],
   "source": [
    "bool(0)"
   ]
  },
  {
   "cell_type": "code",
   "execution_count": null,
   "id": "7a2788bd-40d1-4693-9b01-fa91cc73543d",
   "metadata": {},
   "outputs": [],
   "source": [
    "bool(\"True\")"
   ]
  },
  {
   "cell_type": "code",
   "execution_count": null,
   "id": "d89dffe7-9f96-4967-8acc-4b8fc1690290",
   "metadata": {},
   "outputs": [],
   "source": [
    "bool(\"False\")"
   ]
  },
  {
   "cell_type": "code",
   "execution_count": null,
   "id": "426c2a70-f148-4a2b-94b6-456707dd8fd1",
   "metadata": {},
   "outputs": [],
   "source": [
    "bool('')"
   ]
  },
  {
   "cell_type": "code",
   "execution_count": null,
   "id": "515924db-b5e9-4f3f-bda2-65a1eccfa26b",
   "metadata": {},
   "outputs": [],
   "source": [
    "int(True)"
   ]
  },
  {
   "cell_type": "code",
   "execution_count": null,
   "id": "e407f96d-462a-477e-b565-aafe96defd26",
   "metadata": {},
   "outputs": [],
   "source": [
    "int(False)"
   ]
  },
  {
   "cell_type": "code",
   "execution_count": null,
   "id": "2d3d29b7-cba3-4b5c-b0f8-0757fe85d808",
   "metadata": {},
   "outputs": [],
   "source": [
    "int(bool(100))"
   ]
  },
  {
   "cell_type": "code",
   "execution_count": null,
   "id": "56b5822d-fd6e-4c2d-8162-09e450bf8850",
   "metadata": {},
   "outputs": [],
   "source": [
    "not(5)"
   ]
  },
  {
   "cell_type": "code",
   "execution_count": null,
   "id": "e6dc6231-d9da-41ab-b50c-e52c8a3f43c8",
   "metadata": {},
   "outputs": [],
   "source": [
    "not(bool(5))"
   ]
  },
  {
   "cell_type": "code",
   "execution_count": null,
   "id": "776893bd-20f7-464b-8e73-13cd911f8d53",
   "metadata": {},
   "outputs": [],
   "source": [
    "not(True)"
   ]
  },
  {
   "cell_type": "code",
   "execution_count": null,
   "id": "40ae78be-0503-4433-bf56-f430661394c5",
   "metadata": {},
   "outputs": [],
   "source": [
    "not(False)"
   ]
  },
  {
   "cell_type": "code",
   "execution_count": null,
   "id": "96184b44-e1fd-48b8-9075-3f1c3417cda9",
   "metadata": {},
   "outputs": [],
   "source": [
    "def sum_product(n1, n2):\n",
    "    s = n1 + n2\n",
    "    p = n1 * n2\n",
    "    print(s,p)\n",
    "    \n",
    "    return s,p  #  multiple returns are possible.\n",
    "\n",
    "s1,p1 = sum_product(10,20) # capture the returns in a positional manner\n",
    "print(p1,s1)\n",
    "print(p1+10)\n",
    "print(s1+20)"
   ]
  },
  {
   "cell_type": "code",
   "execution_count": null,
   "id": "ee6049c5-dc41-46f6-a829-382def35cfb0",
   "metadata": {},
   "outputs": [],
   "source": [
    "def sum_product1(n1, n2):\n",
    "    s = n1 + n2\n",
    "    p = n1 * n2\n",
    "    print(s,p)\n",
    "    # return None\n",
    "\n",
    "sp = sum_product1(10,20) # capture the returns in a positional manner\n",
    "print(sp)\n",
    "print(type(sp))\n",
    "\n",
    "sum_product1(10,200)"
   ]
  },
  {
   "cell_type": "code",
   "execution_count": null,
   "id": "27fa3b1e-ca2b-4a44-9952-0d65f1c8500f",
   "metadata": {},
   "outputs": [],
   "source": [
    "print(type(None))"
   ]
  },
  {
   "cell_type": "code",
   "execution_count": null,
   "id": "ee60a1a7-761b-4d18-a412-548bf03bb3b6",
   "metadata": {},
   "outputs": [],
   "source": [
    "# if no explicit return inside a function, implicitly None gets returned."
   ]
  },
  {
   "cell_type": "code",
   "execution_count": null,
   "id": "cb1b0cb8-bc06-45f0-8cf2-47d16c339262",
   "metadata": {},
   "outputs": [],
   "source": [
    "def marks_analysis(marks):\n",
    "    if marks >= 70:\n",
    "        grade= 'Disty';          delta = 100-marks\n",
    "    elif marks >= 60:\n",
    "        grade = 'FC';         delta = 70-marks\n",
    "    elif marks >= 50:\n",
    "        grade = 'SC';         delta = 60-marks\n",
    "    elif marks >= 35:\n",
    "        grade = 'PC';         delta = 50-marks\n",
    "    else:\n",
    "        grade = 'Fail';        delta = 35-marks        \n",
    "\n",
    "    return grade, delta"
   ]
  },
  {
   "cell_type": "code",
   "execution_count": null,
   "id": "d9ac4ba3-0bd4-43e4-bec1-3f00fdf6e73d",
   "metadata": {},
   "outputs": [],
   "source": [
    "marks = 74\n",
    "grade, delta_marks = marks_analysis(marks)\n",
    "print(grade, delta_marks)"
   ]
  },
  {
   "cell_type": "code",
   "execution_count": null,
   "id": "3de474e3-c234-4627-8a35-5b61016a0032",
   "metadata": {},
   "outputs": [],
   "source": [
    "print(type(marks_analysis))"
   ]
  },
  {
   "cell_type": "markdown",
   "id": "473530a7-fbe5-4eb7-b14b-41bb02d0f16a",
   "metadata": {},
   "source": [
    "# Strings"
   ]
  },
  {
   "cell_type": "code",
   "execution_count": null,
   "id": "e7df86a0-b31d-4a6b-be7a-4de680e1d710",
   "metadata": {},
   "outputs": [],
   "source": [
    "ms1 = 'pythondatascience'\n",
    "print(type(ms1))\n",
    "print(len(ms1))\n",
    "print(ms1)"
   ]
  },
  {
   "cell_type": "code",
   "execution_count": null,
   "id": "0c5d3755-0fad-4c68-965a-80fde304efa7",
   "metadata": {},
   "outputs": [],
   "source": [
    "ms1[0]"
   ]
  },
  {
   "cell_type": "code",
   "execution_count": null,
   "id": "6698f854-8ce3-4b24-97b2-e06409efbe71",
   "metadata": {},
   "outputs": [],
   "source": [
    "ms1[0] = 'j'"
   ]
  },
  {
   "cell_type": "code",
   "execution_count": null,
   "id": "f97f1898-cb8a-4b34-aee3-f4f0c6db226a",
   "metadata": {},
   "outputs": [],
   "source": [
    "ms1 = 20\n",
    "print(ms1)"
   ]
  },
  {
   "cell_type": "code",
   "execution_count": null,
   "id": "532da2ed-8dbf-4904-80b2-6384d5e23fac",
   "metadata": {},
   "outputs": [],
   "source": [
    "ms1 = 'pythondatascience'\n",
    "print(type(ms1))\n",
    "print(len(ms1))\n",
    "print(ms1)\n",
    "ms1[100]"
   ]
  },
  {
   "cell_type": "markdown",
   "id": "80b527b0-1621-4722-bb70-9769261e87bd",
   "metadata": {},
   "source": [
    "# Slicing"
   ]
  },
  {
   "cell_type": "code",
   "execution_count": null,
   "id": "35893f35-aa02-428c-add1-cc8eb6f9b3ae",
   "metadata": {},
   "outputs": [],
   "source": [
    "ms1 = 'abcdefghijkl'"
   ]
  },
  {
   "cell_type": "raw",
   "id": "a067cd8d-89a2-4d94-89c8-3aad8547ead8",
   "metadata": {},
   "source": [
    "2:8,  2:8:1,   2,3,4,5,6,7,  ###8,9,10,11\n",
    "\n",
    "7:3,   7:3:1,  7,8,9   \"\"\n",
    "\n",
    "7:3:-1,   7,6,5,4,   #3,2,1\n",
    "\n",
    "::2,  0::2, 0,2,4,6,8,"
   ]
  },
  {
   "cell_type": "code",
   "execution_count": null,
   "id": "dff81bf3-a2a4-4378-8797-06985787d048",
   "metadata": {},
   "outputs": [],
   "source": [
    "ms1[2:8]"
   ]
  },
  {
   "cell_type": "code",
   "execution_count": null,
   "id": "a400aacc-4951-41fe-bf21-8148049d5694",
   "metadata": {},
   "outputs": [],
   "source": [
    "ns1 = ms1[7:3]\n",
    "if ns1 == '':\n",
    "    print('Null String')"
   ]
  },
  {
   "cell_type": "code",
   "execution_count": null,
   "id": "f4ac8e2b-74fa-4680-b965-48127b1d94c4",
   "metadata": {},
   "outputs": [],
   "source": [
    "ms1[7:3:-1]"
   ]
  },
  {
   "cell_type": "code",
   "execution_count": null,
   "id": "a04a0ccf-904f-4e29-9335-4a2a45c67508",
   "metadata": {},
   "outputs": [],
   "source": [
    "ms1[::2]"
   ]
  },
  {
   "cell_type": "code",
   "execution_count": null,
   "id": "e1915442-4261-4bfb-a585-3bb6c3a41458",
   "metadata": {},
   "outputs": [],
   "source": [
    "ms1[::-1]"
   ]
  },
  {
   "cell_type": "code",
   "execution_count": null,
   "id": "d0d63fc9-8280-4e59-9b12-b5530f116d52",
   "metadata": {},
   "outputs": [],
   "source": [
    "ms1[:]"
   ]
  },
  {
   "cell_type": "code",
   "execution_count": null,
   "id": "c3131ee2-87fc-4017-9c44-9583a342d761",
   "metadata": {},
   "outputs": [],
   "source": [
    "ms1[-8:-2]"
   ]
  },
  {
   "cell_type": "code",
   "execution_count": null,
   "id": "ac0966f8-e42f-4607-8613-6ef68ae139ab",
   "metadata": {},
   "outputs": [],
   "source": [
    "ms1[-2:-8]"
   ]
  },
  {
   "cell_type": "code",
   "execution_count": null,
   "id": "c83f31ab-a0dc-4cb1-8065-eb421c350f03",
   "metadata": {},
   "outputs": [],
   "source": [
    "ms1[-2:-8:-2]"
   ]
  },
  {
   "cell_type": "code",
   "execution_count": null,
   "id": "fd8b6f27-dd1e-4495-bd97-9ee8957d2feb",
   "metadata": {},
   "outputs": [],
   "source": [
    "'hello' + 'world'"
   ]
  },
  {
   "cell_type": "code",
   "execution_count": null,
   "id": "eb02a3ae-e671-4c1a-a6df-d6552bf6216e",
   "metadata": {},
   "outputs": [],
   "source": [
    "'hello' * 3"
   ]
  },
  {
   "cell_type": "code",
   "execution_count": null,
   "id": "d62ae3b3-5523-448d-8de0-dbcd22890ab8",
   "metadata": {},
   "outputs": [],
   "source": [
    "'hello' * 'world'  #error"
   ]
  },
  {
   "cell_type": "code",
   "execution_count": null,
   "id": "865f7252-61b5-45a4-9519-08f4e46367ee",
   "metadata": {},
   "outputs": [],
   "source": [
    "'nse' in 'india nse exchange' #  membership operator. in checks presense"
   ]
  },
  {
   "cell_type": "code",
   "execution_count": null,
   "id": "93d6678c-704a-4394-980c-aab04557113e",
   "metadata": {},
   "outputs": [],
   "source": [
    "'nse' in 'india bse exchange'"
   ]
  },
  {
   "cell_type": "code",
   "execution_count": null,
   "id": "bbb975c5-bebd-4318-b5ef-1debeb28b82f",
   "metadata": {},
   "outputs": [],
   "source": [
    "'nse' not in 'india bse exchange' #  not in checks for absense"
   ]
  },
  {
   "cell_type": "code",
   "execution_count": null,
   "id": "b835d73d-0e41-4ce4-9ef3-d8b443685ad6",
   "metadata": {},
   "outputs": [],
   "source": [
    "print(dir(str))"
   ]
  },
  {
   "cell_type": "code",
   "execution_count": null,
   "id": "4c0ffea7-47ab-4c6d-96b6-7f9cfa78fbca",
   "metadata": {},
   "outputs": [],
   "source": [
    "'replace' in dir(str)"
   ]
  },
  {
   "cell_type": "code",
   "execution_count": null,
   "id": "6fc67112-53e7-4814-8fc3-0578216fcd58",
   "metadata": {},
   "outputs": [],
   "source": [
    "print(type(str.replace))"
   ]
  },
  {
   "cell_type": "code",
   "execution_count": null,
   "id": "d32f09eb-6cf8-4bab-9ef6-b598a19e6f79",
   "metadata": {},
   "outputs": [],
   "source": [
    "help(str.replace)"
   ]
  },
  {
   "cell_type": "code",
   "execution_count": null,
   "id": "fc1c58a1-c111-48e5-a478-afe3b20faf74",
   "metadata": {},
   "outputs": [],
   "source": [
    "ms1 = 'king ring SING'\n",
    "ns1 = ms1.replace('ng', 'ms')\n",
    "print(ns1)\n",
    "print(ms1)  #  strings are immutable"
   ]
  },
  {
   "cell_type": "code",
   "execution_count": null,
   "id": "da50d930-3e94-4d7a-a40e-d7a60fc302c4",
   "metadata": {},
   "outputs": [],
   "source": [
    "ms1 = 'king ring SING'\n",
    "ns1 = ms1.replace('ng', 'ms',1)\n",
    "print(ns1)\n",
    "print(ms1)  #  strings are immutable"
   ]
  },
  {
   "cell_type": "code",
   "execution_count": null,
   "id": "abfbef2b-cf17-4bff-be13-5613d6fdaaa8",
   "metadata": {},
   "outputs": [],
   "source": [
    "ms1 = 'king ring SING'\n",
    "print(id(ms1))\n",
    "ms1 = ms1.replace('ng', 'ms')\n",
    "print(id(ms1))\n",
    "print(ms1)"
   ]
  },
  {
   "cell_type": "code",
   "execution_count": null,
   "id": "447930bf-8a21-4de6-bdf5-f460083ff339",
   "metadata": {},
   "outputs": [],
   "source": [
    "ms1 = 'king ring SING'\n",
    "ms1.replace('ng','ms').replace('NG','TS')  # piping or chaining."
   ]
  },
  {
   "cell_type": "code",
   "execution_count": null,
   "id": "89a53894-44da-4aea-b131-da47c87c7c7f",
   "metadata": {},
   "outputs": [],
   "source": [
    "ms1 = 'nationalexchange'"
   ]
  },
  {
   "cell_type": "code",
   "execution_count": null,
   "id": "ecac4c22-25b0-4c3c-abbe-745bd0261268",
   "metadata": {},
   "outputs": [],
   "source": [
    "ms1.find('a')"
   ]
  },
  {
   "cell_type": "code",
   "execution_count": null,
   "id": "f87287c8-1176-42fd-b96c-2381660e6b4d",
   "metadata": {},
   "outputs": [],
   "source": [
    "ms1 = 'nationalexchange'\n",
    "print(ms1[4:10])\n",
    "ms1.find('a',4,10)"
   ]
  },
  {
   "cell_type": "code",
   "execution_count": null,
   "id": "e6944746-1b56-4f00-89fc-e1c1a6fd4f43",
   "metadata": {},
   "outputs": [],
   "source": [
    "ms1.rfind('a')"
   ]
  },
  {
   "cell_type": "code",
   "execution_count": null,
   "id": "227ea03d-aad3-4608-9804-1f9f348addea",
   "metadata": {},
   "outputs": [],
   "source": [
    "ms2 = 'World Health_Org Geneva'\n",
    "ms2.split() # returns a list"
   ]
  },
  {
   "cell_type": "code",
   "execution_count": null,
   "id": "cf8da50b-8c25-4903-bd04-6593543d3481",
   "metadata": {},
   "outputs": [],
   "source": [
    "ms2 = 'World Health_Org Geneva'\n",
    "ms2.split(' ', 1)"
   ]
  },
  {
   "cell_type": "code",
   "execution_count": null,
   "id": "00f636b7-ab31-4dbc-9ea6-ad89040648b6",
   "metadata": {},
   "outputs": [],
   "source": [
    "ms2 = 'World Health_Org Geneva'\n",
    "ms2.split('_')"
   ]
  },
  {
   "cell_type": "code",
   "execution_count": null,
   "id": "9ec38f3c-9fc1-4a62-8ed7-3c33325f3be8",
   "metadata": {},
   "outputs": [],
   "source": [
    "ms2.split(' ').split('_') #error"
   ]
  },
  {
   "cell_type": "code",
   "execution_count": null,
   "id": "a40c2433-8aec-4725-81af-236d38bbe514",
   "metadata": {},
   "outputs": [],
   "source": [
    "slist = ['World', 'Health', 'Org', 'Geneva']\n",
    "sep = '_'\n",
    "ns1 = sep.join(slist)\n",
    "ns1"
   ]
  },
  {
   "cell_type": "code",
   "execution_count": null,
   "id": "bd1e33aa-b5ef-4a70-8534-6b71562f02fd",
   "metadata": {},
   "outputs": [],
   "source": [
    "slist = ['World', 'Health', 'Org', 'Geneva']\n",
    "ns1 = '::'.join(slist)\n",
    "ns1"
   ]
  },
  {
   "cell_type": "code",
   "execution_count": null,
   "id": "75c1e272-6d12-44aa-88fa-e28f5d5e8e6b",
   "metadata": {},
   "outputs": [],
   "source": [
    "slist = ['World', 'Health', 'Org', 'Geneva']\n",
    "ns1 = ' '.join(slist)\n",
    "ns1"
   ]
  },
  {
   "cell_type": "code",
   "execution_count": null,
   "id": "b069057f-85ce-4bda-a681-900f830b315d",
   "metadata": {},
   "outputs": [],
   "source": [
    "slist = ['World', 'Health', 'Org', 'Geneva']\n",
    "ns1 = ''.join(slist)\n",
    "ns1"
   ]
  },
  {
   "cell_type": "code",
   "execution_count": null,
   "id": "7afc780c-25a1-4b4a-a426-eaafccf12aa9",
   "metadata": {},
   "outputs": [],
   "source": [
    "slist = ['World', 'Health', 'Org', 'Geneva', 123]  # error\n",
    "ns1 = '::'.join(slist) # join works only on list of strings\n",
    "ns1"
   ]
  },
  {
   "cell_type": "markdown",
   "id": "669ec1bb-f88f-497a-863b-12b8509ee295",
   "metadata": {},
   "source": [
    "# Formatted Print"
   ]
  },
  {
   "cell_type": "code",
   "execution_count": null,
   "id": "082973f4-12df-46a9-8ffd-1d7ef902a977",
   "metadata": {},
   "outputs": [],
   "source": [
    "# Average <subject> score of <number> students is <score> in this exam."
   ]
  },
  {
   "cell_type": "code",
   "execution_count": null,
   "id": "9a60a639-39bf-4b19-9c8e-52255546240e",
   "metadata": {},
   "outputs": [],
   "source": [
    "sub = 'Math'; num = 50; avg = 98.76\n",
    "# Unconstrained String Formatting\n",
    "ns1 = \"Average {} score of {}  students is {} in the exam\".format(sub,num,avg)\n",
    "print(ns1)\n",
    "\n",
    "print(\"Average {} score of {}  students is {} in the exam\".format(sub,sub,sub))"
   ]
  },
  {
   "cell_type": "code",
   "execution_count": null,
   "id": "03f403ce-1c8d-4288-a841-d49a9dd18f48",
   "metadata": {},
   "outputs": [],
   "source": [
    "#  Datatype Constraint\n",
    "\n",
    "sub = 'Math'; num = 50; avg = 98.76\n",
    "print(\"Average {:s} score of {:d}  students is {:f} in the exam\".format(sub,num,avg))\n",
    "print(\"Average {:s} score of {:d}  students is {:f} in the exam\".format(num,sub,sub))"
   ]
  },
  {
   "cell_type": "code",
   "execution_count": null,
   "id": "83f371f9-a2fb-4914-8ba3-171ba62d46e7",
   "metadata": {},
   "outputs": [],
   "source": [
    "# Replacement index constraing\n",
    "\n",
    "sub = 'Math'; num = 50; avg = 98.76\n",
    "print(\"Average {1} score of {0}  students is {2} in the exam\".format(sub,num,avg))\n",
    "print(\"Average {1} score of {1}  students is {1} in the exam\".format(sub,num,avg))"
   ]
  },
  {
   "cell_type": "code",
   "execution_count": null,
   "id": "dfbcd1c3-bfc7-4316-8961-043ba4961c12",
   "metadata": {},
   "outputs": [],
   "source": [
    "sub = 'Math'; num = 50; avg = 98.76\n",
    "print(\"Average {1:s} score of {2:d}  students is {2:f} in the exam\".format(avg,sub,num))\n",
    "print(\"Average {1:s} score of {2:d}  students is {0:.2f} in the exam\".format(avg,sub,num))"
   ]
  },
  {
   "cell_type": "code",
   "execution_count": null,
   "id": "41806566-d421-4550-810a-38e643c0bc77",
   "metadata": {},
   "outputs": [],
   "source": [
    "help('FORMATTING')"
   ]
  },
  {
   "cell_type": "code",
   "execution_count": null,
   "id": "5fee1b9f-73ac-48c6-b499-332789b6d800",
   "metadata": {},
   "outputs": [],
   "source": [
    "print(\"nseindia\")"
   ]
  },
  {
   "cell_type": "code",
   "execution_count": null,
   "id": "19a97424-40b1-4d4c-9762-47e1cbfcf847",
   "metadata": {},
   "outputs": [],
   "source": [
    "print(\"nse\\nindia\")"
   ]
  },
  {
   "cell_type": "code",
   "execution_count": null,
   "id": "514843e8-50ed-4bd1-8855-73c37c111981",
   "metadata": {},
   "outputs": [],
   "source": [
    "print(\"nse\\tindia\")"
   ]
  },
  {
   "cell_type": "code",
   "execution_count": null,
   "id": "5056fad7-dc58-4c60-985b-bbb27840329b",
   "metadata": {},
   "outputs": [],
   "source": [
    "print(\"nse\\pindia\")"
   ]
  },
  {
   "cell_type": "code",
   "execution_count": null,
   "id": "cb07fce5-f49b-476c-8784-953e7ddb0c96",
   "metadata": {},
   "outputs": [],
   "source": [
    "print(\"nse\\\\pindia\")"
   ]
  },
  {
   "cell_type": "code",
   "execution_count": null,
   "id": "8350694e-18be-4e18-9001-e4dc3785af8e",
   "metadata": {},
   "outputs": [],
   "source": [
    "print(\"nse\\bindia\")"
   ]
  },
  {
   "cell_type": "markdown",
   "id": "699bdba5-18fe-4eb5-afef-0f6c3c5d0030",
   "metadata": {},
   "source": [
    "# List"
   ]
  },
  {
   "cell_type": "code",
   "execution_count": null,
   "id": "e7673ddf-f548-421a-8764-7b5a4e510130",
   "metadata": {},
   "outputs": [],
   "source": [
    "m1 = [11,22,33,'Hello']\n",
    "print(type(m1))\n",
    "print(len(m1))\n",
    "print(m1)"
   ]
  },
  {
   "cell_type": "code",
   "execution_count": null,
   "id": "91a7828e-91ee-4ac7-9f4c-8333eae93830",
   "metadata": {},
   "outputs": [],
   "source": [
    "m1[0]"
   ]
  },
  {
   "cell_type": "code",
   "execution_count": null,
   "id": "4e2bcf58-e7f6-48de-998e-159ef84e2d2e",
   "metadata": {},
   "outputs": [],
   "source": [
    "m1[0] = 'pds'"
   ]
  },
  {
   "cell_type": "code",
   "execution_count": null,
   "id": "8bca38d1-b1f1-43f5-86a5-36c4628fd852",
   "metadata": {},
   "outputs": [],
   "source": [
    "m1"
   ]
  },
  {
   "cell_type": "code",
   "execution_count": null,
   "id": "60c78255-6e48-4728-92b3-1d0e58847c93",
   "metadata": {},
   "outputs": [],
   "source": [
    "m1 = []\n",
    "print(type(m1))\n",
    "print(len(m1))\n",
    "print(m1)"
   ]
  },
  {
   "cell_type": "code",
   "execution_count": null,
   "id": "c6d26cd9-b02b-424c-ab8a-186ac4e56830",
   "metadata": {},
   "outputs": [],
   "source": [
    "m1 = list('python')\n",
    "print(m1)"
   ]
  },
  {
   "cell_type": "code",
   "execution_count": null,
   "id": "8f8b0168-8ffb-42f8-8832-11373b4133fd",
   "metadata": {},
   "outputs": [],
   "source": [
    "[11,22,33] + [44,55,'Hello']"
   ]
  },
  {
   "cell_type": "code",
   "execution_count": null,
   "id": "b07f897d-374f-4d9b-ac8f-4e8cfa7c5459",
   "metadata": {},
   "outputs": [],
   "source": [
    "[11,22,33] * 4"
   ]
  },
  {
   "cell_type": "code",
   "execution_count": null,
   "id": "497bba9e-a609-4a87-9329-7cd24d16dd79",
   "metadata": {},
   "outputs": [],
   "source": [
    "m1 = list('pythondatascience')\n",
    "print(m1)\n",
    "m1[2:10:2]"
   ]
  },
  {
   "cell_type": "code",
   "execution_count": null,
   "id": "e18ef8f1-6ccc-499a-9358-cad162cc77c1",
   "metadata": {},
   "outputs": [],
   "source": [
    "m1 = list('pythondatascience')\n",
    "print(m1)\n",
    "print('z' in m1)\n",
    "print('y' in m1)\n",
    "print('z' not in m1)"
   ]
  },
  {
   "cell_type": "raw",
   "id": "2adf16e5-b982-46da-bc53-9f8cb84bbe89",
   "metadata": {},
   "source": [
    "11 22\n",
    "33 44\n",
    "55 66"
   ]
  },
  {
   "cell_type": "code",
   "execution_count": null,
   "id": "cdb7a037-d1a4-4b91-9387-127d8ed5d889",
   "metadata": {},
   "outputs": [],
   "source": [
    "m32 = [\n",
    "    [11,22],\n",
    "    [33,44],\n",
    "    [55,66]\n",
    "]\n",
    "print(m32)\n",
    "print(len(m32))\n",
    "print(m32[1])\n",
    "print(len(m32[1]))"
   ]
  },
  {
   "cell_type": "code",
   "execution_count": null,
   "id": "167df926-d27c-4b3e-9926-60bc25d97310",
   "metadata": {},
   "outputs": [],
   "source": [
    "print(dir(list))"
   ]
  },
  {
   "cell_type": "code",
   "execution_count": null,
   "id": "8ab961dd-f4f0-4942-ac6e-050a39c71a5b",
   "metadata": {},
   "outputs": [],
   "source": [
    "m1 = list('pds')\n",
    "print(m1)\n",
    "\n",
    "a = m1.append(21)  #  inplace update.  inplace=True\n",
    "print(a)\n",
    "\n",
    "print(m1)"
   ]
  },
  {
   "cell_type": "code",
   "execution_count": null,
   "id": "455f4809-3a5c-4ee7-a6df-f1d4a58f5f2d",
   "metadata": {},
   "outputs": [],
   "source": [
    "m1 = list('pds')\n",
    "print(m1)\n",
    "m1.append(22)  #  inplace update.  inplace=True\n",
    "print(m1)"
   ]
  },
  {
   "cell_type": "code",
   "execution_count": null,
   "id": "3f856dbb-f323-4175-8884-324a737347be",
   "metadata": {},
   "outputs": [],
   "source": [
    "m1 = [11,22,33]\n",
    "m2 = [55,66,77]\n",
    "m1.append(m2)\n",
    "print(m1)"
   ]
  },
  {
   "cell_type": "code",
   "execution_count": null,
   "id": "a1ccec49-6762-4260-8910-19cd68b58f90",
   "metadata": {},
   "outputs": [],
   "source": [
    "m1 = [11,22,33]\n",
    "m2 = [55,66,77]\n",
    "m1.extend(m2)\n",
    "print(m1)"
   ]
  },
  {
   "cell_type": "code",
   "execution_count": null,
   "id": "235a8045-39a4-4f16-bda8-f96bb2867f78",
   "metadata": {},
   "outputs": [],
   "source": [
    "m1 = []\n",
    "m2 = [55,66,77]\n",
    "m1.extend(m2)\n",
    "print(m1)"
   ]
  },
  {
   "cell_type": "code",
   "execution_count": null,
   "id": "67d41843-8cdb-4b8a-9de9-817ab4a0dbdd",
   "metadata": {},
   "outputs": [],
   "source": [
    "m1 = [11,22,33]\n",
    "print(m1)\n",
    "m1.insert(0,999)\n",
    "print(m1)"
   ]
  },
  {
   "cell_type": "code",
   "execution_count": null,
   "id": "c3741963-23ce-47aa-b046-48c38614b5d2",
   "metadata": {},
   "outputs": [],
   "source": [
    "m1 = [11,22,33]\n",
    "print(m1)\n",
    "m1.insert(-1,999)\n",
    "print(m1)"
   ]
  },
  {
   "cell_type": "code",
   "execution_count": null,
   "id": "cf6dea65-7774-425b-b355-02995d4b850e",
   "metadata": {},
   "outputs": [],
   "source": [
    "m1 = [11,22,33]\n",
    "print(m1)\n",
    "m1.insert(100,999)\n",
    "print(m1)"
   ]
  },
  {
   "cell_type": "code",
   "execution_count": null,
   "id": "a0a91ea2-6ae7-4d0a-82e7-9c445a9ed9ac",
   "metadata": {},
   "outputs": [],
   "source": [
    "m1 = [11,22,33]\n",
    "print(m1)\n",
    "m1.insert(len(m1),999)\n",
    "print(m1)"
   ]
  },
  {
   "cell_type": "code",
   "execution_count": null,
   "id": "0fbf7b38-36e3-43d2-9439-dbfcd54dd22f",
   "metadata": {},
   "outputs": [],
   "source": [
    "m1 = [11,22,33]\n",
    "print(m1)\n",
    "\n",
    "r = m1.pop()\n",
    "print(r)\n",
    "\n",
    "print(m1)"
   ]
  },
  {
   "cell_type": "code",
   "execution_count": null,
   "id": "17e6b6a3-3fb0-4a30-81e8-460e9d78c588",
   "metadata": {},
   "outputs": [],
   "source": [
    "m1 = [11,22,33]\n",
    "print(m1)\n",
    "\n",
    "r = m1.pop(0)\n",
    "print(r)\n",
    "\n",
    "print(m1)"
   ]
  },
  {
   "cell_type": "code",
   "execution_count": null,
   "id": "422b0f5b-88c9-48f5-bf78-b92fed8b5c09",
   "metadata": {},
   "outputs": [],
   "source": [
    "m1 = [11,22,33]\n",
    "print(m1)\n",
    "\n",
    "r = m1.pop(5)\n",
    "print(r)\n",
    "\n",
    "print(m1)"
   ]
  },
  {
   "cell_type": "code",
   "execution_count": null,
   "id": "6d69f78d-8fed-49b7-a1c7-290844eacb3f",
   "metadata": {},
   "outputs": [],
   "source": [
    "m1 = list('pythondatascience')\n",
    "print(m1)\n",
    "\n",
    "m1.remove('a')\n",
    "\n",
    "print(m1)"
   ]
  },
  {
   "cell_type": "code",
   "execution_count": null,
   "id": "70eec92e-e080-4a98-a4ac-02651aba36b9",
   "metadata": {},
   "outputs": [],
   "source": [
    "m1 = list('pythondatascience')\n",
    "print(m1)\n",
    "\n",
    "while 'a' in m1:\n",
    "    m1.remove('a')\n",
    "\n",
    "print(m1)"
   ]
  },
  {
   "cell_type": "code",
   "execution_count": null,
   "id": "dd242255-382f-4e5d-95fc-dde1a28f8f78",
   "metadata": {},
   "outputs": [],
   "source": [
    "m1 = [11,22,33]\n",
    "m1.reverse()\n",
    "print(m1)"
   ]
  },
  {
   "cell_type": "code",
   "execution_count": null,
   "id": "7471b438-8378-4733-ba44-60ca19d6fe7d",
   "metadata": {},
   "outputs": [],
   "source": [
    "m1 = [11,22,33]\n",
    "m1[::-1]"
   ]
  },
  {
   "cell_type": "code",
   "execution_count": null,
   "id": "3ce0077b-c059-4219-8cec-24fe575dfe06",
   "metadata": {},
   "outputs": [],
   "source": [
    "m1 = list('pythondatascience')\n",
    "print(m1)\n",
    "\n",
    "print(m1.index('a'))\n",
    "\n",
    "if 'z' in m1:\n",
    "    print(m1.index('z'))"
   ]
  },
  {
   "cell_type": "code",
   "execution_count": null,
   "id": "e2d11097-c265-4ac3-b31b-79a4d62987c7",
   "metadata": {},
   "outputs": [],
   "source": [
    "m1 = list('pythondatascience')\n",
    "print(m1)\n",
    "m1.count('a')"
   ]
  },
  {
   "cell_type": "code",
   "execution_count": null,
   "id": "eea6f345-4f57-4b91-9bf0-b6894e279a8f",
   "metadata": {},
   "outputs": [],
   "source": [
    "m1 = [33,22,11,77,44]\n",
    "print(max(m1))\n",
    "print(min(m1))"
   ]
  },
  {
   "cell_type": "code",
   "execution_count": null,
   "id": "c26cf7ba-0e6e-4098-a775-da1891b7727e",
   "metadata": {},
   "outputs": [],
   "source": [
    "m1 = list('pythondatascience')\n",
    "print(max(m1))\n",
    "print(min(m1))"
   ]
  },
  {
   "cell_type": "code",
   "execution_count": null,
   "id": "153af955-0596-4f12-b16d-3e3ad9253ece",
   "metadata": {},
   "outputs": [],
   "source": [
    "m1 = list('pythondatascience123')\n",
    "print(max(m1))\n",
    "print(min(m1))"
   ]
  },
  {
   "cell_type": "code",
   "execution_count": null,
   "id": "bb63f59a-0732-462a-ad94-087ff2140aa4",
   "metadata": {},
   "outputs": [],
   "source": [
    "ord('a')"
   ]
  },
  {
   "cell_type": "code",
   "execution_count": null,
   "id": "b5e525fd-ec63-4ebc-9fc6-62867d7a0935",
   "metadata": {},
   "outputs": [],
   "source": [
    "ord('1')"
   ]
  },
  {
   "cell_type": "code",
   "execution_count": null,
   "id": "cf522a90-b4e3-49ca-a48d-69a62bd73d09",
   "metadata": {},
   "outputs": [],
   "source": [
    "m1 = [11,'a','b','z']\n",
    "print(max(m1))"
   ]
  },
  {
   "cell_type": "code",
   "execution_count": null,
   "id": "8bac7df9-68ea-47fb-abcc-fe2706266c75",
   "metadata": {},
   "outputs": [],
   "source": [
    "'b' > 'a'"
   ]
  },
  {
   "cell_type": "code",
   "execution_count": null,
   "id": "7b40602c-cd86-41a2-b7fb-87e1064d253b",
   "metadata": {},
   "outputs": [],
   "source": [
    "13 > 11"
   ]
  },
  {
   "cell_type": "code",
   "execution_count": null,
   "id": "85ba9f10-cb0f-45a3-b50e-cbe28e631416",
   "metadata": {},
   "outputs": [],
   "source": [
    "13 > 'a'"
   ]
  },
  {
   "cell_type": "code",
   "execution_count": null,
   "id": "af15fd42-3f79-45d4-8504-2eb658cb6065",
   "metadata": {},
   "outputs": [],
   "source": [
    "m1 = [11,'a','b','z']\n",
    "print(m1)\n",
    "m1.clear()\n",
    "print(m1)"
   ]
  },
  {
   "cell_type": "code",
   "execution_count": null,
   "id": "3bbad41f-aaae-41f5-89a3-c8507172a314",
   "metadata": {},
   "outputs": [],
   "source": [
    "m1 = [33,22,11,77,44]\n",
    "m1.sort()\n",
    "print(m1)"
   ]
  },
  {
   "cell_type": "code",
   "execution_count": null,
   "id": "2ff65898-b7f8-4240-8367-5b5d87dc1b6c",
   "metadata": {},
   "outputs": [],
   "source": [
    "m1 = [33,22,11,77,44, 45.34]\n",
    "m1.sort(reverse=True)\n",
    "print(m1)"
   ]
  },
  {
   "cell_type": "code",
   "execution_count": null,
   "id": "ad71725a-8ef4-4c38-8bb4-f0335e415a53",
   "metadata": {},
   "outputs": [],
   "source": [
    "m1 = list('pythondatascience123')\n",
    "m1.sort(reverse=True)\n",
    "print(m1)"
   ]
  },
  {
   "cell_type": "code",
   "execution_count": null,
   "id": "b06f237f-a9f6-4120-b369-155354747ad1",
   "metadata": {},
   "outputs": [],
   "source": [
    "m1 = [33,22,2,5,11,77,44,'pds','science']\n",
    "m1.sort()\n",
    "print(m1)"
   ]
  },
  {
   "cell_type": "code",
   "execution_count": null,
   "id": "e6617d2b-2ddd-4ba3-abc7-8b0d4553e911",
   "metadata": {},
   "outputs": [],
   "source": [
    "isinstance(23,int)"
   ]
  },
  {
   "cell_type": "code",
   "execution_count": null,
   "id": "b68e2c5c-9cd3-4211-ba8c-c4429114d455",
   "metadata": {},
   "outputs": [],
   "source": [
    "isinstance('hello', str)"
   ]
  },
  {
   "cell_type": "code",
   "execution_count": null,
   "id": "e8173618-c464-4dad-a945-feb12d936f2b",
   "metadata": {},
   "outputs": [],
   "source": [
    "isinstance('hello', int)"
   ]
  },
  {
   "cell_type": "code",
   "execution_count": null,
   "id": "e9d6d7f3-ddcf-497c-96ca-9876b0aca223",
   "metadata": {},
   "outputs": [],
   "source": [
    "isinstance('hello', (int,str)   )"
   ]
  },
  {
   "cell_type": "code",
   "execution_count": null,
   "id": "48b9c6ef-1a3a-4807-9d1d-8da32e7d4f3e",
   "metadata": {},
   "outputs": [],
   "source": [
    "isinstance('hello', (int,float)   )"
   ]
  },
  {
   "cell_type": "code",
   "execution_count": null,
   "id": "fef2877e-81dc-420a-94bf-dc857a475c81",
   "metadata": {},
   "outputs": [],
   "source": [
    "def obj_check(obj):\n",
    "\n",
    "    if isinstance(obj, (int,float)):\n",
    "        return obj\n",
    "    elif isinstance(obj, str):\n",
    "        return len(obj)\n",
    "\n",
    "    return 0"
   ]
  },
  {
   "cell_type": "code",
   "execution_count": null,
   "id": "be1285cd-1e3b-4586-afb3-b1df4cc2d45b",
   "metadata": {},
   "outputs": [],
   "source": [
    "m1 = [33,22,2,5,11,77,44,'pds','science', [11,22]]\n",
    "m1.sort(key=obj_check)\n",
    "print(m1)"
   ]
  },
  {
   "cell_type": "code",
   "execution_count": null,
   "id": "de19b973-b977-4624-9ce0-6aba7e9616ef",
   "metadata": {},
   "outputs": [],
   "source": [
    "m1 = [33,22,2,5,11,77,44,'pds','science', [11,22]]\n",
    "m1.sort(key=obj_check, reverse=True)\n",
    "print(m1)"
   ]
  },
  {
   "cell_type": "code",
   "execution_count": null,
   "id": "65d2e190-faf0-4255-a27c-f588a07bd081",
   "metadata": {},
   "outputs": [],
   "source": [
    "# tbd copy method."
   ]
  },
  {
   "cell_type": "code",
   "execution_count": null,
   "id": "3f277d64-27f4-4cd7-ac49-af157b1c1942",
   "metadata": {},
   "outputs": [],
   "source": [
    "#print = 20"
   ]
  },
  {
   "cell_type": "code",
   "execution_count": null,
   "id": "fa8b2ab4-dfc7-4fab-aa0c-2ec9a461d730",
   "metadata": {},
   "outputs": [],
   "source": [
    "print('hello world')"
   ]
  },
  {
   "cell_type": "code",
   "execution_count": null,
   "id": "1caee74c-0332-4ca4-b87a-7ee7fd07a813",
   "metadata": {},
   "outputs": [],
   "source": [
    "print(dir(__builtins__))"
   ]
  },
  {
   "cell_type": "markdown",
   "id": "2d4bcbff-4791-4fe8-9660-87c16ee7f117",
   "metadata": {},
   "source": [
    "# Tuple"
   ]
  },
  {
   "cell_type": "code",
   "execution_count": null,
   "id": "02ad0d2d-82ca-4200-9d0d-2663be5ecb55",
   "metadata": {},
   "outputs": [],
   "source": [
    "mt1 = (11,22,33,44)\n",
    "print(type(mt1))\n",
    "print(len(mt1))\n",
    "print(mt1)\n",
    "print(mt1[0])"
   ]
  },
  {
   "cell_type": "code",
   "execution_count": null,
   "id": "a31967a4-0e0c-4712-b348-51ea9a8464e8",
   "metadata": {},
   "outputs": [],
   "source": [
    "mt1[0] = 999  #  tuples objects are immutable"
   ]
  },
  {
   "cell_type": "code",
   "execution_count": null,
   "id": "3208bec3-c037-41f0-bcbf-8c98884e4a75",
   "metadata": {},
   "outputs": [],
   "source": [
    "mt1 = (11,22,33,44, [777,888,99])\n",
    "print(mt1[-1])"
   ]
  },
  {
   "cell_type": "code",
   "execution_count": null,
   "id": "c2bc524a-b2c4-4741-8633-4739b5208e67",
   "metadata": {},
   "outputs": [],
   "source": [
    "mt1[-1] = 'hello'"
   ]
  },
  {
   "cell_type": "code",
   "execution_count": null,
   "id": "e2b1f514-21a3-49ac-891e-dc3a1fbffb5c",
   "metadata": {},
   "outputs": [],
   "source": [
    "mt1[-1][0] = 'hello'"
   ]
  },
  {
   "cell_type": "code",
   "execution_count": null,
   "id": "b77077a9-db70-462e-ab7a-515849afec9a",
   "metadata": {},
   "outputs": [],
   "source": [
    "mt1"
   ]
  },
  {
   "cell_type": "code",
   "execution_count": null,
   "id": "6e2f6dc3-fb0d-49d2-8dd7-b0c18ed0396a",
   "metadata": {},
   "outputs": [],
   "source": [
    "mt1 = (234)\n",
    "#print(len(mt1))\n",
    "print(type(mt1))\n",
    "print(mt1)"
   ]
  },
  {
   "cell_type": "code",
   "execution_count": null,
   "id": "ff34579a-3093-41b3-af46-a90405386415",
   "metadata": {},
   "outputs": [],
   "source": [
    "mt1 = (234,)\n",
    "print(len(mt1))\n",
    "print(type(mt1))\n",
    "print(mt1)"
   ]
  },
  {
   "cell_type": "code",
   "execution_count": null,
   "id": "63411a7a-e904-495f-831a-207b58487ee5",
   "metadata": {},
   "outputs": [],
   "source": [
    "mt1 = (234+10-20)\n",
    "#print(len(mt1))\n",
    "print(type(mt1))\n",
    "print(mt1)"
   ]
  },
  {
   "cell_type": "code",
   "execution_count": null,
   "id": "4291b906-9c43-4db4-b9ad-b0e9cd1320cd",
   "metadata": {},
   "outputs": [],
   "source": [
    "print(dir(tuple))"
   ]
  },
  {
   "cell_type": "code",
   "execution_count": null,
   "id": "9138f39c-c8de-4ec9-976c-1c6e74272839",
   "metadata": {},
   "outputs": [],
   "source": [
    "mt1 = tuple('datascience')\n",
    "print(mt1)"
   ]
  },
  {
   "cell_type": "code",
   "execution_count": null,
   "id": "89239f72-ded3-4cf3-a37e-eebb3ca74a05",
   "metadata": {},
   "outputs": [],
   "source": [
    "mt1.index('a')"
   ]
  },
  {
   "cell_type": "code",
   "execution_count": null,
   "id": "0c50fc22-afe2-43fb-aa92-fa288427ec2e",
   "metadata": {},
   "outputs": [],
   "source": [
    "mt1.count('a')"
   ]
  },
  {
   "cell_type": "code",
   "execution_count": null,
   "id": "8403e439-85ec-43fe-bb36-d7cc9f717c01",
   "metadata": {},
   "outputs": [],
   "source": [
    "mt2 = (2,4,6,8,10)\n",
    "print(mt2)\n",
    "print(id(mt2))\n",
    "\n",
    "templist = list(mt2)\n",
    "templist.append(999)\n",
    "\n",
    "mt2 = tuple(templist)\n",
    "print(mt2)\n",
    "print(id(mt2))"
   ]
  },
  {
   "cell_type": "code",
   "execution_count": null,
   "id": "ba40a519-191c-46bf-9a1c-93e3c07acaff",
   "metadata": {},
   "outputs": [],
   "source": [
    "max(  (2,4,6,88,10))"
   ]
  },
  {
   "cell_type": "code",
   "execution_count": null,
   "id": "f048b938-5a73-4931-8615-ad226f82b3d9",
   "metadata": {},
   "outputs": [],
   "source": [
    "min(  (22,4,6,8,10)  )"
   ]
  },
  {
   "cell_type": "markdown",
   "id": "553c3971-0ecc-451d-8330-1b7e5a7c38b4",
   "metadata": {},
   "source": [
    "# Dictionary"
   ]
  },
  {
   "cell_type": "code",
   "execution_count": null,
   "id": "40912ec4-48fa-4719-9ac4-f0218c3c6059",
   "metadata": {},
   "outputs": [],
   "source": [
    "md1 = {'Bank':'SBI', 'Branch':'MGROAD', 91:'India'}\n",
    "print(type(md1))\n",
    "print(md1)"
   ]
  },
  {
   "cell_type": "code",
   "execution_count": null,
   "id": "25ae091b-eecd-432f-881a-ac888306a6f3",
   "metadata": {},
   "outputs": [],
   "source": [
    "md1[0]"
   ]
  },
  {
   "cell_type": "code",
   "execution_count": null,
   "id": "66c4a993-0a77-41e2-8751-fe78f2c82f2f",
   "metadata": {},
   "outputs": [],
   "source": [
    "md1[91]"
   ]
  },
  {
   "cell_type": "code",
   "execution_count": null,
   "id": "b2d4acee-8acc-498d-8937-afa6c51dee65",
   "metadata": {},
   "outputs": [],
   "source": [
    "md1['City']"
   ]
  },
  {
   "cell_type": "code",
   "execution_count": null,
   "id": "0a5823e5-ffc2-47eb-aca0-617e4818a292",
   "metadata": {},
   "outputs": [],
   "source": [
    "md1"
   ]
  },
  {
   "cell_type": "code",
   "execution_count": null,
   "id": "a52be8a3-f90d-4b13-85df-b3f44bce98b2",
   "metadata": {},
   "outputs": [],
   "source": [
    "md1"
   ]
  },
  {
   "cell_type": "code",
   "execution_count": null,
   "id": "82ba1fc1-454a-49e9-a012-a00bdf02e6f6",
   "metadata": {},
   "outputs": [],
   "source": [
    "md1 = {'Bank':'SBI', 'Branch':'MGROAD', 91:'India'}\n",
    "print(md1)\n",
    "\n",
    "md1['Bank'] = 'Axis'\n",
    "md1['City'] = 'Delhi'\n",
    "del md1['Branch']\n",
    "\n",
    "print(md1)"
   ]
  },
  {
   "cell_type": "code",
   "execution_count": null,
   "id": "3230df16-04cb-4472-8422-1ac9c6f72983",
   "metadata": {},
   "outputs": [],
   "source": [
    "md1 = {}\n",
    "print(md1)\n",
    "md1['City'] = 'Delhi'\n",
    "print(md1)"
   ]
  },
  {
   "cell_type": "code",
   "execution_count": null,
   "id": "cb8ab496-088b-4edc-aa43-bfb87c102082",
   "metadata": {},
   "outputs": [],
   "source": [
    "md1 = {'Bank':'SBI', 'Branch':'MGROAD', 'Bank':'Axis'}\n",
    "print(md1)"
   ]
  },
  {
   "cell_type": "code",
   "execution_count": null,
   "id": "94c7bd26-5a7b-4174-8e2d-10b94e86d2d3",
   "metadata": {},
   "outputs": [],
   "source": [
    "md1 = {'Bank':'SBI', 'Branch':'MGROAD', 'Bank':'Axis', 'State':'Delhi', 'City':'Delhi'}\n",
    "print(md1)\n",
    "print(len(md1))"
   ]
  },
  {
   "cell_type": "code",
   "execution_count": null,
   "id": "3df88e36-7e23-4d91-bc2f-0af4fd9f0b9d",
   "metadata": {},
   "outputs": [],
   "source": [
    "hash(90)"
   ]
  },
  {
   "cell_type": "code",
   "execution_count": null,
   "id": "b8c9e1f2-eb9a-4184-a70e-fbce6aff9dcd",
   "metadata": {},
   "outputs": [],
   "source": [
    "hash('Bank')"
   ]
  },
  {
   "cell_type": "code",
   "execution_count": null,
   "id": "6fdf4479-3398-4003-99b9-2e90ad6c8046",
   "metadata": {},
   "outputs": [],
   "source": [
    "hash('Branch')"
   ]
  },
  {
   "cell_type": "code",
   "execution_count": null,
   "id": "306e6cdc-443a-4005-bb00-a640c66aab3a",
   "metadata": {},
   "outputs": [],
   "source": [
    "hash(   (11,22,33) )"
   ]
  },
  {
   "cell_type": "code",
   "execution_count": null,
   "id": "cfd8b2d2-6921-4d0f-9961-71d6d08b1b81",
   "metadata": {},
   "outputs": [],
   "source": [
    "hash(  (11,22,33,[444,555]))"
   ]
  },
  {
   "cell_type": "code",
   "execution_count": null,
   "id": "d3d3b178-e452-4a02-9f9a-762d815f9c67",
   "metadata": {},
   "outputs": [],
   "source": [
    "print(dir(dict))"
   ]
  },
  {
   "cell_type": "code",
   "execution_count": null,
   "id": "bcea1c07-fe81-4a5f-9873-44a56bb0ab52",
   "metadata": {},
   "outputs": [],
   "source": [
    "md1 = {'Bank':'SBI', 'Branch':'MGROAD', 'City':'Delhi'}\n",
    "print(md1)\n",
    "\n",
    "k = md1.keys()\n",
    "print(type(k))\n",
    "print(k)\n",
    "\n",
    "listofkeys = list(md1.keys())\n",
    "print(listofkeys)\n",
    "print(listofkeys[0])"
   ]
  },
  {
   "cell_type": "code",
   "execution_count": null,
   "id": "0168a694-a137-4a39-b536-d893ad9667de",
   "metadata": {},
   "outputs": [],
   "source": [
    "k[0]"
   ]
  },
  {
   "cell_type": "code",
   "execution_count": null,
   "id": "8a2d323d-c2fd-44f6-ba44-89e53d33281f",
   "metadata": {},
   "outputs": [],
   "source": [
    "md1 = {'Bank':'SBI', 'Branch':'MGROAD', 'City':'Delhi'}\n",
    "print(md1)\n",
    "md1.keys()"
   ]
  },
  {
   "cell_type": "code",
   "execution_count": null,
   "id": "9be28962-a811-41c2-be35-8313cb592e21",
   "metadata": {},
   "outputs": [],
   "source": [
    "md1 = {'Bank':'SBI', 'Branch':'MGROAD', 'City':'Delhi'}\n",
    "print(md1)\n",
    "md1.values()"
   ]
  },
  {
   "cell_type": "code",
   "execution_count": null,
   "id": "c4ef734a-afa4-498d-a4cd-7ae13db51ca6",
   "metadata": {},
   "outputs": [],
   "source": [
    "md1 = {'Bank':'SBI', 'Branch':'MGROAD', 'City':'Delhi'}\n",
    "print(md1)\n",
    "md1.items()"
   ]
  },
  {
   "cell_type": "code",
   "execution_count": null,
   "id": "56d30899-4f0b-4f02-8166-243487205a12",
   "metadata": {},
   "outputs": [],
   "source": [
    "md1 = {'Bank':'SBI', 'Branch':'MGROAD', 'City':'Delhi'}\n",
    "print(md1)\n",
    "list(md1.items())"
   ]
  },
  {
   "cell_type": "code",
   "execution_count": null,
   "id": "e569fdb5-6740-4449-9ef0-a2a6ff5103d5",
   "metadata": {},
   "outputs": [],
   "source": [
    "print(dir(dict))"
   ]
  },
  {
   "cell_type": "code",
   "execution_count": null,
   "id": "c4e20f98-00ea-45a3-a6be-8d5142eba07d",
   "metadata": {},
   "outputs": [],
   "source": [
    "md1 = {'Bank':'SBI', 'Branch':'MGROAD', 'City':'Delhi'}\n",
    "print(md1)\n",
    "\n",
    "v = md1.get('Bank')\n",
    "print(v)\n",
    "\n",
    "v = md1.get('State')\n",
    "print(v)\n",
    "\n",
    "v = md1.get('State', 'Unknown')\n",
    "print(v)\n",
    "\n",
    "v = md1.get('Bank', 'Unknown')\n",
    "print(v)"
   ]
  },
  {
   "cell_type": "code",
   "execution_count": null,
   "id": "53e663bc-298e-42d9-9eda-5ea959be3f29",
   "metadata": {},
   "outputs": [],
   "source": [
    "md1 = {'Bank':'SBI', 'Branch':'MGROAD', 'City':'Delhi'}\n",
    "print(md1)\n",
    "v = md1.pop('Branch')\n",
    "print(v)\n",
    "print(md1)"
   ]
  },
  {
   "cell_type": "code",
   "execution_count": null,
   "id": "53f2f74a-7d51-4e1e-b1f4-e9c5860ba954",
   "metadata": {},
   "outputs": [],
   "source": [
    "md1 = {'Bank':'SBI', 'Branch':'MGROAD', 'City':'Delhi'}\n",
    "print(md1)\n",
    "v = md1.pop('State')\n",
    "print(v)\n",
    "print(md1)"
   ]
  },
  {
   "cell_type": "code",
   "execution_count": null,
   "id": "a7f4ef91-17f7-4072-9b65-8b5e4b9a1d12",
   "metadata": {},
   "outputs": [],
   "source": [
    "md1 = {'Bank':'SBI', 'Branch':'MGROAD', 'City':'Delhi'}\n",
    "print(md1)\n",
    "v = md1.pop('State', 'KeyNotExisting')\n",
    "print(v)\n",
    "print(md1)"
   ]
  },
  {
   "cell_type": "code",
   "execution_count": null,
   "id": "d12734dc-b40c-4d35-9a58-5f2ab4e9793d",
   "metadata": {},
   "outputs": [],
   "source": [
    "md1 = {'Bank':'SBI', 'Branch':'MGROAD', 'City':'Delhi'}\n",
    "print(md1)\n",
    "v = md1.pop('Branch', 'KeyNotExisting')\n",
    "print(v)\n",
    "print(md1)"
   ]
  },
  {
   "cell_type": "code",
   "execution_count": null,
   "id": "c1a8fc66-fc15-4ed5-9716-a8209faf8898",
   "metadata": {},
   "outputs": [],
   "source": [
    "md1 = {'Bank':'SBI', 'Branch':'MGROAD', 'City':'Delhi'}\n",
    "print(md1)\n",
    "v = md1.setdefault('State')\n",
    "print(v)\n",
    "print(md1)"
   ]
  },
  {
   "cell_type": "code",
   "execution_count": null,
   "id": "8ec4e961-1f1f-483a-9b5d-8a725f494103",
   "metadata": {},
   "outputs": [],
   "source": [
    "md1 = {'Bank':'SBI', 'Branch':'MGROAD', 'City':'Delhi'}\n",
    "print(md1)\n",
    "v = md1.setdefault('State', 'Delhi')\n",
    "print(v)\n",
    "print(md1)"
   ]
  },
  {
   "cell_type": "code",
   "execution_count": null,
   "id": "beb1a8a8-2145-4852-a2de-784db9525829",
   "metadata": {},
   "outputs": [],
   "source": [
    "md1 = {'Bank':'SBI', 'Branch':'MGROAD', 'City':'Delhi'}\n",
    "print(md1)\n",
    "v = md1.setdefault('Branch', 'Delhi')\n",
    "print(v)\n",
    "print(md1)"
   ]
  },
  {
   "cell_type": "code",
   "execution_count": null,
   "id": "35a5554d-57f9-4e1d-99f0-bb6f5aebdf1c",
   "metadata": {},
   "outputs": [],
   "source": [
    "md1 = {'Bank':'SBI', 'Branch':'MGROAD', 'City':'Delhi'}\n",
    "print(md1)\n",
    "\n",
    "md2 = {'Bank':'Axis', 'State':'Delhi'}\n",
    "print(md2)\n",
    "\n",
    "md1.update(md2) #  md1 is updating itself with values of md2. inplace update.\n",
    "\n",
    "print(md1)"
   ]
  },
  {
   "cell_type": "code",
   "execution_count": null,
   "id": "bae56ed4-e94a-495b-854a-b4719db6e88a",
   "metadata": {},
   "outputs": [],
   "source": [
    "klist = ['Bank','Branch','State', 'City']\n",
    "vlist = ['ICICI', 'MGROAD', 'KA']\n",
    "\n",
    "z = zip(klist, vlist)\n",
    "print(type(z))\n",
    "print(z)  # iterator. one time readable object.\n",
    "\n",
    "print(list(z))\n",
    "print(list(z))"
   ]
  },
  {
   "cell_type": "code",
   "execution_count": null,
   "id": "e7b6a4d6-ec50-4727-8647-075711704715",
   "metadata": {},
   "outputs": [],
   "source": [
    "kvlist = [('Bank', 'ICICI'), ('Branch', 'MGROAD'), ('State', 'KA')]\n",
    "md1 = dict(kvlist)\n",
    "md1"
   ]
  },
  {
   "cell_type": "code",
   "execution_count": null,
   "id": "a0557a6f-73aa-470f-a735-d830d9558438",
   "metadata": {},
   "outputs": [],
   "source": [
    "klist = ['Bank','Branch','State', 'City']\n",
    "vlist = ['ICICI', 'MGROAD', 'KA']\n",
    "\n",
    "md1 = dict(zip(klist, vlist))\n",
    "md1"
   ]
  },
  {
   "cell_type": "markdown",
   "id": "3d36c9d2-51d2-42e7-ac98-355489c1716f",
   "metadata": {},
   "source": [
    "# SETS"
   ]
  },
  {
   "cell_type": "code",
   "execution_count": null,
   "id": "31a35ad1-d0a2-4f70-b1b2-77917f772bda",
   "metadata": {},
   "outputs": [],
   "source": [
    "ms1 = {2,4,6,8,2,4}\n",
    "print(type(ms1))\n",
    "print(len(ms1))\n",
    "print(ms1)"
   ]
  },
  {
   "cell_type": "code",
   "execution_count": null,
   "id": "bec3714a-7728-4559-b2c3-805e896b39fc",
   "metadata": {},
   "outputs": [],
   "source": [
    "ms1 = set('pythondatascience')\n",
    "print(ms1)"
   ]
  },
  {
   "cell_type": "code",
   "execution_count": null,
   "id": "11242f65-da0c-4b68-93c5-39c20aa0ce44",
   "metadata": {},
   "outputs": [],
   "source": [
    "ms1 = {}\n",
    "print(type(ms1))"
   ]
  },
  {
   "cell_type": "code",
   "execution_count": null,
   "id": "b24df620-c916-4f2d-9da2-7a5ddd01e623",
   "metadata": {},
   "outputs": [],
   "source": [
    "ms1 = set()\n",
    "print(type(ms1))\n",
    "print(len(ms1))\n",
    "print(ms1)"
   ]
  },
  {
   "cell_type": "code",
   "execution_count": null,
   "id": "536e3cf1-e071-42b2-972f-a8ebb82b28d3",
   "metadata": {},
   "outputs": [],
   "source": [
    "ms1 = set()\n",
    "ms1.add(100)\n",
    "ms1.add(200)\n",
    "print(ms1)"
   ]
  },
  {
   "cell_type": "code",
   "execution_count": null,
   "id": "50847eb5-2149-4714-b1cd-0a8922829f98",
   "metadata": {},
   "outputs": [],
   "source": [
    "ms1 = {2,4,6,8,10,12}\n",
    "ms1[0]"
   ]
  },
  {
   "cell_type": "code",
   "execution_count": null,
   "id": "c307ffcb-7e5e-4a9f-bc2c-16bcf84e53f9",
   "metadata": {},
   "outputs": [],
   "source": [
    "ms1 = {2,4,6,8,10,12}\n",
    "v = ms1.pop()\n",
    "print(v)"
   ]
  },
  {
   "cell_type": "code",
   "execution_count": null,
   "id": "0323ff3d-26d3-4685-914c-8af371fcdf5f",
   "metadata": {},
   "outputs": [],
   "source": [
    "ms1 = {2,4,6,8,10,12}\n",
    "\n",
    "while (len(ms1)):\n",
    "    v = ms1.pop()\n",
    "    print(v)"
   ]
  },
  {
   "cell_type": "code",
   "execution_count": null,
   "id": "de31d531-acb7-4d66-adb3-3f48df67b050",
   "metadata": {},
   "outputs": [],
   "source": [
    "ms1 = set('pythondatascience')\n",
    "\n",
    "while (len(ms1)):\n",
    "    v = ms1.pop()\n",
    "    print(v)"
   ]
  },
  {
   "cell_type": "code",
   "execution_count": null,
   "id": "3f4fc9be-ad2e-4c98-b758-f12b6a34d00e",
   "metadata": {},
   "outputs": [],
   "source": [
    "ms1 = {2,4,6,8,10,12,15,21}\n",
    "ms2 = {1,3,5,15,21}\n",
    "ms1.union(ms2)"
   ]
  },
  {
   "cell_type": "code",
   "execution_count": null,
   "id": "81bb8018-ffb2-4d71-acff-00da1e2254d1",
   "metadata": {},
   "outputs": [],
   "source": [
    "ms1 = {2,4,6,8,10,12,15,21}\n",
    "ms2 = {1,3,5,15,21}\n",
    "ms1.intersection(ms2)"
   ]
  },
  {
   "cell_type": "code",
   "execution_count": null,
   "id": "34d59752-58c9-4c9a-8e4c-5f14174f913b",
   "metadata": {},
   "outputs": [],
   "source": [
    "ms1 = {2,4,6,8,10,12,15,21}\n",
    "ms2 \n",
    "ms1-ms2"
   ]
  },
  {
   "cell_type": "code",
   "execution_count": null,
   "id": "2000c7e7-2647-47ec-8da0-f991b89f04fc",
   "metadata": {},
   "outputs": [],
   "source": [
    "ms1 = {2,4,6,8,10,12,15,21}\n",
    "ms2 = {1,3,5,15,21}\n",
    "ms2-ms1"
   ]
  },
  {
   "cell_type": "code",
   "execution_count": null,
   "id": "cc465794-8cba-484c-a1ee-52eedde86fe2",
   "metadata": {},
   "outputs": [],
   "source": [
    "ms1 = {2,4,6,8,10,12,15,21}\n",
    "ms2 = {1,3,5,15,21}\n",
    "ms1.symmetric_difference(ms2)"
   ]
  },
  {
   "cell_type": "code",
   "execution_count": null,
   "id": "f5ab5d2b-987e-493a-a991-f1018c8e1f7b",
   "metadata": {},
   "outputs": [],
   "source": []
  }
 ],
 "metadata": {
  "kernelspec": {
   "display_name": "Python 3 (ipykernel)",
   "language": "python",
   "name": "python3"
  },
  "language_info": {
   "codemirror_mode": {
    "name": "ipython",
    "version": 3
   },
   "file_extension": ".py",
   "mimetype": "text/x-python",
   "name": "python",
   "nbconvert_exporter": "python",
   "pygments_lexer": "ipython3",
   "version": "3.13.1"
  }
 },
 "nbformat": 4,
 "nbformat_minor": 5
}
